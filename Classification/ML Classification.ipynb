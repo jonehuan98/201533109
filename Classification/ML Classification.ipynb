{
 "cells": [
  {
   "cell_type": "code",
   "execution_count": 1,
   "metadata": {},
   "outputs": [],
   "source": [
    "import pandas as pd\n",
    "import numpy as np\n",
    "from sklearn.model_selection import train_test_split, cross_val_score, GridSearchCV\n",
    "from sklearn.metrics import classification_report\n",
    "import pickle"
   ]
  },
  {
   "cell_type": "code",
   "execution_count": 2,
   "metadata": {},
   "outputs": [],
   "source": [
    "\n",
    "df = pd.read_csv(\"\")\n"
   ]
  },
  {
   "cell_type": "code",
   "execution_count": 4,
   "metadata": {},
   "outputs": [],
   "source": [
    "x_train, x_test, y_train, y_test = train_test_split(df[\"content\"], df[\"label\"], test_size = 0.2, shuffle=True, random_state=1)"
   ]
  },
  {
   "cell_type": "code",
   "execution_count": 5,
   "metadata": {},
   "outputs": [],
   "source": [
    "from sklearn.feature_extraction.text import TfidfVectorizer\n",
    "vectorizarion = TfidfVectorizer()\n",
    "xv_train = vectorizarion.fit_transform(x_train.astype('U'))\n",
    "xv_test = vectorizarion.transform(x_test.astype('U'))\n",
    "#pickle.dump(vectorizarion, open(\"vectorizer.pickle\",\"wb\"))"
   ]
  },
  {
   "cell_type": "code",
   "execution_count": 6,
   "metadata": {},
   "outputs": [
    {
     "name": "stdout",
     "output_type": "stream",
     "text": [
      "0.8492501973164956\n",
      "              precision    recall  f1-score   support\n",
      "\n",
      "           0       0.84      0.92      0.88      2258\n",
      "           1       0.86      0.75      0.80      1543\n",
      "\n",
      "    accuracy                           0.85      3801\n",
      "   macro avg       0.85      0.83      0.84      3801\n",
      "weighted avg       0.85      0.85      0.85      3801\n",
      "\n"
     ]
    }
   ],
   "source": [
    "#Logistic Regression\n",
    "from sklearn.linear_model import LogisticRegression\n",
    "LR = LogisticRegression()\n",
    "LR.fit(xv_train, y_train)\n",
    "\n",
    "print(LR.score(xv_test, y_test))\n",
    "\n",
    "predictLR = LR.predict(xv_test)\n",
    "print(classification_report(y_test, predictLR))"
   ]
  },
  {
   "cell_type": "code",
   "execution_count": 7,
   "metadata": {},
   "outputs": [
    {
     "name": "stdout",
     "output_type": "stream",
     "text": [
      "0.7966324651407525\n",
      "              precision    recall  f1-score   support\n",
      "\n",
      "           0       0.81      0.85      0.83      2258\n",
      "           1       0.77      0.71      0.74      1543\n",
      "\n",
      "    accuracy                           0.80      3801\n",
      "   macro avg       0.79      0.78      0.79      3801\n",
      "weighted avg       0.80      0.80      0.80      3801\n",
      "\n"
     ]
    }
   ],
   "source": [
    "#Decision Tree\n",
    "from sklearn.tree import DecisionTreeClassifier\n",
    "DT = DecisionTreeClassifier()\n",
    "DT.fit(xv_train, y_train)\n",
    "print(DT.score(xv_test, y_test))\n",
    "\n",
    "predDT = DT.predict(xv_test)\n",
    "print(classification_report(y_test, predDT))"
   ]
  },
  {
   "cell_type": "code",
   "execution_count": 8,
   "metadata": {},
   "outputs": [
    {
     "name": "stdout",
     "output_type": "stream",
     "text": [
      "0.7958431991581163\n",
      "              precision    recall  f1-score   support\n",
      "\n",
      "           0       0.77      0.94      0.85      2258\n",
      "           1       0.87      0.59      0.70      1543\n",
      "\n",
      "    accuracy                           0.80      3801\n",
      "   macro avg       0.82      0.76      0.77      3801\n",
      "weighted avg       0.81      0.80      0.79      3801\n",
      "\n"
     ]
    }
   ],
   "source": [
    "#Gradient Boosting\n",
    "from sklearn.ensemble import GradientBoostingClassifier\n",
    "GBC = GradientBoostingClassifier(random_state=0)\n",
    "GBC.fit(xv_train,y_train)\n",
    "print(GBC.score(xv_test,y_test))\n",
    "\n",
    "predGBC = GBC.predict(xv_test)\n",
    "print(classification_report(y_test, predGBC))"
   ]
  },
  {
   "cell_type": "code",
   "execution_count": 10,
   "metadata": {},
   "outputs": [
    {
     "name": "stdout",
     "output_type": "stream",
     "text": [
      "0.8481978426729808\n",
      "              precision    recall  f1-score   support\n",
      "\n",
      "           0       0.83      0.93      0.88      2258\n",
      "           1       0.88      0.72      0.79      1543\n",
      "\n",
      "    accuracy                           0.85      3801\n",
      "   macro avg       0.86      0.83      0.84      3801\n",
      "weighted avg       0.85      0.85      0.85      3801\n",
      "\n"
     ]
    }
   ],
   "source": [
    "# Random Forest Classifier\n",
    "from sklearn.ensemble import RandomForestClassifier\n",
    "RFC = RandomForestClassifier(random_state=0)\n",
    "RFC.fit(xv_train,y_train)\n",
    "print(RFC.score(xv_test,y_test))\n",
    "predRFC = RFC.predict(xv_test)\n",
    "print(classification_report(y_test, predRFC))"
   ]
  },
  {
   "cell_type": "code",
   "execution_count": 11,
   "metadata": {},
   "outputs": [
    {
     "name": "stdout",
     "output_type": "stream",
     "text": [
      "0.8602999210734017\n",
      "              precision    recall  f1-score   support\n",
      "\n",
      "           0       0.86      0.92      0.89      2258\n",
      "           1       0.87      0.78      0.82      1543\n",
      "\n",
      "    accuracy                           0.86      3801\n",
      "   macro avg       0.86      0.85      0.85      3801\n",
      "weighted avg       0.86      0.86      0.86      3801\n",
      "\n"
     ]
    }
   ],
   "source": [
    "# SVM\n",
    "from sklearn import svm\n",
    "SVM = svm.SVC()\n",
    "SVM.fit(xv_train,y_train)\n",
    "print(SVM.score(xv_test,y_test))\n",
    "predSVM = SVM.predict(xv_test)\n",
    "SVMreport = (classification_report(y_test, predSVM))\n",
    "print(SVMreport)"
   ]
  },
  {
   "cell_type": "code",
   "execution_count": 12,
   "metadata": {},
   "outputs": [
    {
     "data": {
      "text/plain": [
       "GridSearchCV(cv=5, estimator=SVC(gamma='auto'),\n",
       "             param_grid={'C': [1, 10, 20], 'kernel': ['rbf', 'linear']})"
      ]
     },
     "execution_count": 12,
     "metadata": {},
     "output_type": "execute_result"
    }
   ],
   "source": [
    "clf = GridSearchCV(svm.SVC(gamma=\"auto\"), {\n",
    "    \"C\":[1,10,20],\n",
    "    \"kernel\": [\"rbf\",\"linear\"]\n",
    "}, cv=5, return_train_score=False)\n",
    "\n",
    "clf.fit(xv_train,y_train)"
   ]
  },
  {
   "cell_type": "code",
   "execution_count": 13,
   "metadata": {},
   "outputs": [
    {
     "data": {
      "text/html": [
       "<div>\n",
       "<style scoped>\n",
       "    .dataframe tbody tr th:only-of-type {\n",
       "        vertical-align: middle;\n",
       "    }\n",
       "\n",
       "    .dataframe tbody tr th {\n",
       "        vertical-align: top;\n",
       "    }\n",
       "\n",
       "    .dataframe thead th {\n",
       "        text-align: right;\n",
       "    }\n",
       "</style>\n",
       "<table border=\"1\" class=\"dataframe\">\n",
       "  <thead>\n",
       "    <tr style=\"text-align: right;\">\n",
       "      <th></th>\n",
       "      <th>mean_fit_time</th>\n",
       "      <th>std_fit_time</th>\n",
       "      <th>mean_score_time</th>\n",
       "      <th>std_score_time</th>\n",
       "      <th>param_C</th>\n",
       "      <th>param_kernel</th>\n",
       "      <th>params</th>\n",
       "      <th>split0_test_score</th>\n",
       "      <th>split1_test_score</th>\n",
       "      <th>split2_test_score</th>\n",
       "      <th>split3_test_score</th>\n",
       "      <th>split4_test_score</th>\n",
       "      <th>mean_test_score</th>\n",
       "      <th>std_test_score</th>\n",
       "      <th>rank_test_score</th>\n",
       "    </tr>\n",
       "  </thead>\n",
       "  <tbody>\n",
       "    <tr>\n",
       "      <th>0</th>\n",
       "      <td>14.406474</td>\n",
       "      <td>0.294671</td>\n",
       "      <td>3.292947</td>\n",
       "      <td>0.094836</td>\n",
       "      <td>1</td>\n",
       "      <td>rbf</td>\n",
       "      <td>{'C': 1, 'kernel': 'rbf'}</td>\n",
       "      <td>0.585663</td>\n",
       "      <td>0.585663</td>\n",
       "      <td>0.585334</td>\n",
       "      <td>0.585526</td>\n",
       "      <td>0.585526</td>\n",
       "      <td>0.585542</td>\n",
       "      <td>0.000121</td>\n",
       "      <td>4</td>\n",
       "    </tr>\n",
       "    <tr>\n",
       "      <th>1</th>\n",
       "      <td>9.681390</td>\n",
       "      <td>0.272578</td>\n",
       "      <td>1.728083</td>\n",
       "      <td>0.069836</td>\n",
       "      <td>1</td>\n",
       "      <td>linear</td>\n",
       "      <td>{'C': 1, 'kernel': 'linear'}</td>\n",
       "      <td>0.856297</td>\n",
       "      <td>0.850378</td>\n",
       "      <td>0.848076</td>\n",
       "      <td>0.853618</td>\n",
       "      <td>0.849013</td>\n",
       "      <td>0.851477</td>\n",
       "      <td>0.003055</td>\n",
       "      <td>1</td>\n",
       "    </tr>\n",
       "    <tr>\n",
       "      <th>2</th>\n",
       "      <td>13.172699</td>\n",
       "      <td>0.262790</td>\n",
       "      <td>3.030947</td>\n",
       "      <td>0.113786</td>\n",
       "      <td>10</td>\n",
       "      <td>rbf</td>\n",
       "      <td>{'C': 10, 'kernel': 'rbf'}</td>\n",
       "      <td>0.585663</td>\n",
       "      <td>0.585663</td>\n",
       "      <td>0.585334</td>\n",
       "      <td>0.585526</td>\n",
       "      <td>0.585526</td>\n",
       "      <td>0.585542</td>\n",
       "      <td>0.000121</td>\n",
       "      <td>4</td>\n",
       "    </tr>\n",
       "    <tr>\n",
       "      <th>3</th>\n",
       "      <td>16.760700</td>\n",
       "      <td>0.269572</td>\n",
       "      <td>1.382503</td>\n",
       "      <td>0.015367</td>\n",
       "      <td>10</td>\n",
       "      <td>linear</td>\n",
       "      <td>{'C': 10, 'kernel': 'linear'}</td>\n",
       "      <td>0.839855</td>\n",
       "      <td>0.834265</td>\n",
       "      <td>0.837882</td>\n",
       "      <td>0.830263</td>\n",
       "      <td>0.835197</td>\n",
       "      <td>0.835493</td>\n",
       "      <td>0.003277</td>\n",
       "      <td>2</td>\n",
       "    </tr>\n",
       "    <tr>\n",
       "      <th>4</th>\n",
       "      <td>12.645360</td>\n",
       "      <td>0.025043</td>\n",
       "      <td>2.909067</td>\n",
       "      <td>0.025970</td>\n",
       "      <td>20</td>\n",
       "      <td>rbf</td>\n",
       "      <td>{'C': 20, 'kernel': 'rbf'}</td>\n",
       "      <td>0.585663</td>\n",
       "      <td>0.585663</td>\n",
       "      <td>0.585334</td>\n",
       "      <td>0.585526</td>\n",
       "      <td>0.585526</td>\n",
       "      <td>0.585542</td>\n",
       "      <td>0.000121</td>\n",
       "      <td>4</td>\n",
       "    </tr>\n",
       "    <tr>\n",
       "      <th>5</th>\n",
       "      <td>17.706550</td>\n",
       "      <td>2.341785</td>\n",
       "      <td>1.324509</td>\n",
       "      <td>0.016830</td>\n",
       "      <td>20</td>\n",
       "      <td>linear</td>\n",
       "      <td>{'C': 20, 'kernel': 'linear'}</td>\n",
       "      <td>0.840184</td>\n",
       "      <td>0.824729</td>\n",
       "      <td>0.832292</td>\n",
       "      <td>0.827632</td>\n",
       "      <td>0.831579</td>\n",
       "      <td>0.831283</td>\n",
       "      <td>0.005227</td>\n",
       "      <td>3</td>\n",
       "    </tr>\n",
       "  </tbody>\n",
       "</table>\n",
       "</div>"
      ],
      "text/plain": [
       "   mean_fit_time  std_fit_time  mean_score_time  std_score_time param_C  \\\n",
       "0      14.406474      0.294671         3.292947        0.094836       1   \n",
       "1       9.681390      0.272578         1.728083        0.069836       1   \n",
       "2      13.172699      0.262790         3.030947        0.113786      10   \n",
       "3      16.760700      0.269572         1.382503        0.015367      10   \n",
       "4      12.645360      0.025043         2.909067        0.025970      20   \n",
       "5      17.706550      2.341785         1.324509        0.016830      20   \n",
       "\n",
       "  param_kernel                         params  split0_test_score  \\\n",
       "0          rbf      {'C': 1, 'kernel': 'rbf'}           0.585663   \n",
       "1       linear   {'C': 1, 'kernel': 'linear'}           0.856297   \n",
       "2          rbf     {'C': 10, 'kernel': 'rbf'}           0.585663   \n",
       "3       linear  {'C': 10, 'kernel': 'linear'}           0.839855   \n",
       "4          rbf     {'C': 20, 'kernel': 'rbf'}           0.585663   \n",
       "5       linear  {'C': 20, 'kernel': 'linear'}           0.840184   \n",
       "\n",
       "   split1_test_score  split2_test_score  split3_test_score  split4_test_score  \\\n",
       "0           0.585663           0.585334           0.585526           0.585526   \n",
       "1           0.850378           0.848076           0.853618           0.849013   \n",
       "2           0.585663           0.585334           0.585526           0.585526   \n",
       "3           0.834265           0.837882           0.830263           0.835197   \n",
       "4           0.585663           0.585334           0.585526           0.585526   \n",
       "5           0.824729           0.832292           0.827632           0.831579   \n",
       "\n",
       "   mean_test_score  std_test_score  rank_test_score  \n",
       "0         0.585542        0.000121                4  \n",
       "1         0.851477        0.003055                1  \n",
       "2         0.585542        0.000121                4  \n",
       "3         0.835493        0.003277                2  \n",
       "4         0.585542        0.000121                4  \n",
       "5         0.831283        0.005227                3  "
      ]
     },
     "execution_count": 13,
     "metadata": {},
     "output_type": "execute_result"
    }
   ],
   "source": [
    "svmdf = pd.DataFrame(clf.cv_results_)\n",
    "svmdf"
   ]
  },
  {
   "cell_type": "code",
   "execution_count": 14,
   "metadata": {},
   "outputs": [
    {
     "name": "stdout",
     "output_type": "stream",
     "text": [
      "0.8514766610706312\n",
      "1\n",
      "linear\n",
      "              precision    recall  f1-score   support\n",
      "\n",
      "           0       0.86      0.89      0.88      2258\n",
      "           1       0.84      0.79      0.81      1543\n",
      "\n",
      "    accuracy                           0.85      3801\n",
      "   macro avg       0.85      0.84      0.84      3801\n",
      "weighted avg       0.85      0.85      0.85      3801\n",
      "\n"
     ]
    }
   ],
   "source": [
    "print(clf.best_score_)\n",
    "print(clf.best_estimator_.C)\n",
    "print(clf.best_estimator_.kernel)\n",
    "\n",
    "clfPredict = clf.best_estimator_.predict(xv_test)\n",
    "clfreport = (classification_report(y_test, clfPredict))\n",
    "# clfreport = pd.DataFrame(clfreport)\n",
    "print(clfreport)\n",
    "\n"
   ]
  },
  {
   "cell_type": "code",
   "execution_count": 12,
   "metadata": {},
   "outputs": [
    {
     "name": "stdout",
     "output_type": "stream",
     "text": [
      "[0.87, 0.89, 0.88]\n",
      "[0.83, 0.81, 0.82]\n"
     ]
    },
    {
     "data": {
      "image/png": "[encoded data removed]",
      "text/plain": [
       "<Figure size 432x288 with 2 Axes>"
      ]
     },
     "metadata": {
      "needs_background": "light"
     },
     "output_type": "display_data"
    }
   ],
   "source": [
    "import matplotlib.pyplot as plt\n",
    "def plot_classification_report(cr, title='Classification Report ', with_avg_total=False, cmap=plt.cm.Blues):\n",
    "\n",
    "    lines = cr.split('\\n')\n",
    "\n",
    "    classes = []\n",
    "    plotMat = []\n",
    "    for line in lines[2 : (len(lines) - 3)]:\n",
    "        #print(line)\n",
    "        t = line.split()\n",
    "        # print(t)\n",
    "        if(len(t)==0):\n",
    "            break\n",
    "        classes.append(t[0])\n",
    "        v = [float(x) for x in t[1: len(t) - 1]]\n",
    "        print(v)\n",
    "        plotMat.append(v)\n",
    "\n",
    "    if with_avg_total:\n",
    "        aveTotal = lines[len(lines) - 1].split()\n",
    "        classes.append('avg/total')\n",
    "        vAveTotal = [float(x) for x in t[1:len(aveTotal) - 1]]\n",
    "        plotMat.append(vAveTotal)\n",
    "\n",
    "\n",
    "    plt.imshow(plotMat, interpolation='nearest', cmap=cmap)\n",
    "    plt.title(title)\n",
    "    plt.colorbar()\n",
    "    x_tick_marks = np.arange(3)\n",
    "    y_tick_marks = np.arange(len(classes))\n",
    "    plt.xticks(x_tick_marks, ['precision', 'recall', 'f1-score'], rotation=45)\n",
    "    plt.yticks(y_tick_marks, classes)\n",
    "    plt.tight_layout()\n",
    "    plt.ylabel('Classes')\n",
    "    plt.xlabel('Measures')\n",
    "\n",
    "plot_classification_report(SVMreport)"
   ]
  },
  {
   "cell_type": "code",
   "execution_count": 15,
   "metadata": {},
   "outputs": [],
   "source": [
    "# Save model for webapp\n",
    "import pickle\n",
    "pickle.dump(SVM, open(\"SVM trained model pickle\",\"wb\"))"
   ]
  },
  {
   "cell_type": "code",
   "execution_count": 16,
   "metadata": {},
   "outputs": [
    {
     "data": {
      "text/plain": [
       "['model.joblib']"
      ]
     },
     "execution_count": 16,
     "metadata": {},
     "output_type": "execute_result"
    }
   ],
   "source": [
    "from joblib import dump, load\n",
    "dump(SVM, \"model.joblib\")"
   ]
  },
  {
   "cell_type": "code",
   "execution_count": 13,
   "metadata": {},
   "outputs": [],
   "source": [
    "# m = load(\"model.joblib\")\n"
   ]
  }
 ],
 "metadata": {
  "interpreter": {
   "hash": "63272e03ff86fcad2e90ba3e3b060d6522dc8c350dbb2a9a8b8b1ad431673dcd"
  },
  "kernelspec": {
   "display_name": "Python 3.9.4 64-bit",
   "name": "python3"
  },
  "language_info": {
   "codemirror_mode": {
    "name": "ipython",
    "version": 3
   },
   "file_extension": ".py",
   "mimetype": "text/x-python",
   "name": "python",
   "nbconvert_exporter": "python",
   "pygments_lexer": "ipython3",
   "version": "3.9.4"
  },
  "orig_nbformat": 4
 },
 "nbformat": 4,
 "nbformat_minor": 2
}
